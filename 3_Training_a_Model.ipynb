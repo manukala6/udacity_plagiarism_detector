{
 "cells": [
  {
   "cell_type": "markdown",
   "metadata": {},
   "source": [
    "# Plagiarism Detection Model\n",
    "\n",
    "Now that you've created training and test data, you are ready to define and train a model. Your goal in this notebook, will be to train a binary classification model that learns to label an answer file as either plagiarized or not, based on the features you provide the model.\n",
    "\n",
    "This task will be broken down into a few discrete steps:\n",
    "\n",
    "* Upload your data to S3.\n",
    "* Define a binary classification model and a training script.\n",
    "* Train your model and deploy it.\n",
    "* Evaluate your deployed classifier and answer some questions about your approach.\n",
    "\n",
    "To complete this notebook, you'll have to complete all given exercises and answer all the questions in this notebook.\n",
    "> All your tasks will be clearly labeled **EXERCISE** and questions as **QUESTION**.\n",
    "\n",
    "It will be up to you to explore different classification models and decide on a model that gives you the best performance for this dataset.\n",
    "\n",
    "---"
   ]
  },
  {
   "cell_type": "markdown",
   "metadata": {},
   "source": [
    "## Load Data to S3\n",
    "\n",
    "In the last notebook, you should have created two files: a `training.csv` and `test.csv` file with the features and class labels for the given corpus of plagiarized/non-plagiarized text data. \n",
    "\n",
    ">The below cells load in some AWS SageMaker libraries and creates a default bucket. After creating this bucket, you can upload your locally stored data to S3.\n",
    "\n",
    "Save your train and test `.csv` feature files, locally. To do this you can run the second notebook \"2_Plagiarism_Feature_Engineering\" in SageMaker or you can manually upload your files to this notebook using the upload icon in Jupyter Lab. Then you can upload local files to S3 by using `sagemaker_session.upload_data` and pointing directly to where the training data is saved."
   ]
  },
  {
   "cell_type": "code",
   "execution_count": 23,
   "metadata": {},
   "outputs": [],
   "source": [
    "import pandas as pd\n",
    "import boto3\n",
    "import sagemaker"
   ]
  },
  {
   "cell_type": "code",
   "execution_count": 2,
   "metadata": {},
   "outputs": [],
   "source": [
    "\"\"\"\n",
    "DON'T MODIFY ANYTHING IN THIS CELL THAT IS BELOW THIS LINE\n",
    "\"\"\"\n",
    "# session and role\n",
    "sagemaker_session = sagemaker.Session()\n",
    "role = sagemaker.get_execution_role()\n",
    "\n",
    "# create an S3 bucket\n",
    "bucket = sagemaker_session.default_bucket()"
   ]
  },
  {
   "cell_type": "markdown",
   "metadata": {},
   "source": [
    "## EXERCISE: Upload your training data to S3\n",
    "\n",
    "Specify the `data_dir` where you've saved your `train.csv` file. Decide on a descriptive `prefix` that defines where your data will be uploaded in the default S3 bucket. Finally, create a pointer to your training data by calling `sagemaker_session.upload_data` and passing in the required parameters. It may help to look at the [Session documentation](https://sagemaker.readthedocs.io/en/stable/session.html#sagemaker.session.Session.upload_data) or previous SageMaker code examples.\n",
    "\n",
    "You are expected to upload your entire directory. Later, the training script will only access the `train.csv` file."
   ]
  },
  {
   "cell_type": "code",
   "execution_count": 3,
   "metadata": {},
   "outputs": [],
   "source": [
    "# should be the name of directory you created to save your features data\n",
    "data_dir = 'plagiarism_data'\n",
    "\n",
    "# set prefix, a descriptive name for a directory  \n",
    "prefix = 'features'\n",
    "\n",
    "# upload all data to S3\n",
    "input_data = sagemaker_session.upload_data(path=data_dir, bucket=bucket, key_prefix=prefix)"
   ]
  },
  {
   "cell_type": "markdown",
   "metadata": {},
   "source": [
    "### Test cell\n",
    "\n",
    "Test that your data has been successfully uploaded. The below cell prints out the items in your S3 bucket and will throw an error if it is empty. You should see the contents of your `data_dir` and perhaps some checkpoints. If you see any other files listed, then you may have some old model files that you can delete via the S3 console (though, additional files shouldn't affect the performance of model developed in this notebook)."
   ]
  },
  {
   "cell_type": "code",
   "execution_count": 4,
   "metadata": {},
   "outputs": [
    {
     "name": "stdout",
     "output_type": "stream",
     "text": [
      "boston-xgboost-HL/output/xgboost-2020-02-04-01-37-43-325/output/model.tar.gz\n",
      "boston-xgboost-HL/output/xgboost-2020-02-05-22-56-05-133/output/model.tar.gz\n",
      "boston-xgboost-HL/test.csv\n",
      "boston-xgboost-HL/train.csv\n",
      "boston-xgboost-HL/validation.csv\n",
      "boston-xgboost-deploy-hl/output/xgboost-2020-02-08-18-59-48-599/output/model.tar.gz\n",
      "boston-xgboost-deploy-hl/output/xgboost-2020-02-08-19-16-34-861/output/model.tar.gz\n",
      "boston-xgboost-deploy-hl/output/xgboost-2020-02-08-19-21-19-367/output/model.tar.gz\n",
      "boston-xgboost-deploy-hl/output/xgboost-2020-02-16-20-47-27-613/output/model.tar.gz\n",
      "boston-xgboost-deploy-hl/train.csv\n",
      "boston-xgboost-deploy-hl/validation.csv\n",
      "boston-xgboost-deploy-ll/output/boston-xgboost-2020-02-08-19-34-03/output/model.tar.gz\n",
      "boston-xgboost-deploy-ll/train.csv\n",
      "boston-xgboost-deploy-ll/validation.csv\n",
      "counties/kmeans-2020-03-08-19-21-46-626/output/model.tar.gz\n",
      "counties/pca-2020-03-07-21-33-14-087/output/model.tar.gz\n",
      "creditcard/linear-learner-2020-03-11-23-05-41-605/output/model.tar.gz\n",
      "creditcard/linear-learner-2020-03-14-19-28-29-058/output/model.tar.gz\n",
      "creditcard/linear-learner-2020-03-14-19-37-59-762/output/model.tar.gz\n",
      "features/test.csv\n",
      "features/train.csv\n",
      "sagemaker-pytorch-2020-02-27-03-16-58-096/source/sourcedir.tar.gz\n",
      "sagemaker-pytorch-2020-02-27-03-23-39-665/debug-output/training_job_end.ts\n",
      "sagemaker-pytorch-2020-02-27-03-23-39-665/source/sourcedir.tar.gz\n",
      "sagemaker-pytorch-2020-02-27-03-32-36-303/debug-output/training_job_end.ts\n",
      "sagemaker-pytorch-2020-02-27-03-32-36-303/output/model.tar.gz\n",
      "sagemaker-pytorch-2020-02-27-03-32-36-303/source/sourcedir.tar.gz\n",
      "sagemaker-pytorch-2020-02-29-20-09-31-850/sourcedir.tar.gz\n",
      "sagemaker-pytorch-2020-03-01-20-05-12-063/sourcedir.tar.gz\n",
      "sagemaker-pytorch-2020-03-01-20-33-40-792/debug-output/training_job_end.ts\n",
      "sagemaker-pytorch-2020-03-01-20-33-40-792/output/model.tar.gz\n",
      "sagemaker-pytorch-2020-03-01-20-33-40-792/source/sourcedir.tar.gz\n",
      "sagemaker-pytorch-2020-03-01-20-51-21-719/sourcedir.tar.gz\n",
      "sagemaker-pytorch-2020-03-01-20-58-41-015/sourcedir.tar.gz\n",
      "sagemaker-pytorch-2020-03-01-21-52-29-622/sourcedir.tar.gz\n",
      "sagemaker-pytorch-2020-03-01-22-17-03-762/debug-output/training_job_end.ts\n",
      "sagemaker-pytorch-2020-03-01-22-17-03-762/output/model.tar.gz\n",
      "sagemaker-pytorch-2020-03-01-22-17-03-762/source/sourcedir.tar.gz\n",
      "sagemaker-pytorch-2020-03-03-02-17-14-141/debug-output/training_job_end.ts\n",
      "sagemaker-pytorch-2020-03-03-02-17-14-141/output/model.tar.gz\n",
      "sagemaker-pytorch-2020-03-03-02-17-14-141/source/sourcedir.tar.gz\n",
      "sagemaker-pytorch-2020-03-04-01-24-57-775/debug-output/training_job_end.ts\n",
      "sagemaker-pytorch-2020-03-04-01-24-57-775/output/model.tar.gz\n",
      "sagemaker-pytorch-2020-03-04-01-24-57-775/source/sourcedir.tar.gz\n",
      "sagemaker-pytorch-2020-03-04-02-22-41-877/sourcedir.tar.gz\n",
      "sagemaker-pytorch-2020-03-04-02-23-27-498/sourcedir.tar.gz\n",
      "sagemaker-pytorch-2020-03-04-02-30-52-689/sourcedir.tar.gz\n",
      "sagemaker-pytorch-2020-03-04-02-31-53-689/sourcedir.tar.gz\n",
      "sagemaker-pytorch-2020-03-04-02-51-40-983/sourcedir.tar.gz\n",
      "sagemaker-pytorch-2020-03-04-03-16-28-212/sourcedir.tar.gz\n",
      "sagemaker-pytorch-2020-03-04-03-36-55-645/sourcedir.tar.gz\n",
      "sagemaker-pytorch-2020-03-20-21-36-08-947/source/sourcedir.tar.gz\n",
      "sagemaker-pytorch-2020-03-20-21-42-47-377/source/sourcedir.tar.gz\n",
      "sagemaker-pytorch-2020-03-20-21-50-26-309/source/sourcedir.tar.gz\n",
      "sagemaker-record-sets/KMeans-2020-03-08-19-20-31-384/.amazon.manifest\n",
      "sagemaker-record-sets/KMeans-2020-03-08-19-20-31-384/matrix_0.pbr\n",
      "sagemaker-record-sets/LinearLearner-2020-03-11-23-04-02-650/.amazon.manifest\n",
      "sagemaker-record-sets/LinearLearner-2020-03-11-23-04-02-650/matrix_0.pbr\n",
      "sagemaker-record-sets/PCA-2020-03-07-21-32-39-400/.amazon.manifest\n",
      "sagemaker-record-sets/PCA-2020-03-07-21-32-39-400/matrix_0.pbr\n",
      "sagemaker-scikit-learn-2020-04-30-23-09-30-545/source/sourcedir.tar.gz\n",
      "sagemaker/moon-data/sagemaker-pytorch-2020-03-20-21-36-08-947/output/model.tar.gz\n",
      "sagemaker/moon-data/sagemaker-pytorch-2020-03-20-21-42-47-377/output/model.tar.gz\n",
      "sagemaker/moon-data/sagemaker-pytorch-2020-03-20-21-50-26-309/output/model.tar.gz\n",
      "sagemaker/moon-data/train.csv\n",
      "sagemaker/sentiment_rnn/train.csv\n",
      "sagemaker/sentiment_rnn/word_dict.pkl\n",
      "sentiment-web-app/output/xgboost-2020-02-16-21-05-04-362/output/model.tar.gz\n",
      "sentiment-web-app/output/xgboost-2020-02-22-19-32-05-113/output/model.tar.gz\n",
      "sentiment-web-app/test.csv\n",
      "sentiment-web-app/train.csv\n",
      "sentiment-web-app/validation.csv\n",
      "xgboost-2020-02-04-01-46-56-604/test.csv.out\n",
      "xgboost-2020-02-05-23-00-01-180/test.csv.out\n",
      "xgboost-2020-02-16-21-14-05-553/test.csv.out\n",
      "xgboost-2020-02-22-19-39-50-452/test.csv.out\n",
      "Test passed!\n"
     ]
    }
   ],
   "source": [
    "\"\"\"\n",
    "DON'T MODIFY ANYTHING IN THIS CELL THAT IS BELOW THIS LINE\n",
    "\"\"\"\n",
    "# confirm that data is in S3 bucket\n",
    "empty_check = []\n",
    "for obj in boto3.resource('s3').Bucket(bucket).objects.all():\n",
    "    empty_check.append(obj.key)\n",
    "    print(obj.key)\n",
    "\n",
    "assert len(empty_check) !=0, 'S3 bucket is empty.'\n",
    "print('Test passed!')"
   ]
  },
  {
   "cell_type": "markdown",
   "metadata": {},
   "source": [
    "---\n",
    "\n",
    "# Modeling\n",
    "\n",
    "Now that you've uploaded your training data, it's time to define and train a model!\n",
    "\n",
    "The type of model you create is up to you. For a binary classification task, you can choose to go one of three routes:\n",
    "* Use a built-in classification algorithm, like LinearLearner.\n",
    "* Define a custom Scikit-learn classifier, a comparison of models can be found [here](https://scikit-learn.org/stable/auto_examples/classification/plot_classifier_comparison.html).\n",
    "* Define a custom PyTorch neural network classifier. \n",
    "\n",
    "It will be up to you to test out a variety of models and choose the best one. Your project will be graded on the accuracy of your final model. \n",
    " \n",
    "---\n",
    "\n",
    "## EXERCISE: Complete a training script \n",
    "\n",
    "To implement a custom classifier, you'll need to complete a `train.py` script. You've been given the folders `source_sklearn` and `source_pytorch` which hold starting code for a custom Scikit-learn model and a PyTorch model, respectively. Each directory has a `train.py` training script. To complete this project **you only need to complete one of these scripts**; the script that is responsible for training your final model.\n",
    "\n",
    "A typical training script:\n",
    "* Loads training data from a specified directory\n",
    "* Parses any training & model hyperparameters (ex. nodes in a neural network, training epochs, etc.)\n",
    "* Instantiates a model of your design, with any specified hyperparams\n",
    "* Trains that model \n",
    "* Finally, saves the model so that it can be hosted/deployed, later\n",
    "\n",
    "### Defining and training a model\n",
    "Much of the training script code is provided for you. Almost all of your work will be done in the `if __name__ == '__main__':` section. To complete a `train.py` file, you will:\n",
    "1. Import any extra libraries you need\n",
    "2. Define any additional model training hyperparameters using `parser.add_argument`\n",
    "2. Define a model in the `if __name__ == '__main__':` section\n",
    "3. Train the model in that same section\n",
    "\n",
    "Below, you can use `!pygmentize` to display an existing `train.py` file. Read through the code; all of your tasks are marked with `TODO` comments. \n",
    "\n",
    "**Note: If you choose to create a custom PyTorch model, you will be responsible for defining the model in the `model.py` file,** and a `predict.py` file is provided. If you choose to use Scikit-learn, you only need a `train.py` file; you may import a classifier from the `sklearn` library."
   ]
  },
  {
   "cell_type": "code",
   "execution_count": 9,
   "metadata": {},
   "outputs": [
    {
     "name": "stdout",
     "output_type": "stream",
     "text": [
      "\u001b[34mfrom\u001b[39;49;00m \u001b[04m\u001b[36m__future__\u001b[39;49;00m \u001b[34mimport\u001b[39;49;00m print_function\r\n",
      "\r\n",
      "\u001b[34mimport\u001b[39;49;00m \u001b[04m\u001b[36margparse\u001b[39;49;00m\r\n",
      "\u001b[34mimport\u001b[39;49;00m \u001b[04m\u001b[36mos\u001b[39;49;00m\r\n",
      "\u001b[34mimport\u001b[39;49;00m \u001b[04m\u001b[36mpandas\u001b[39;49;00m \u001b[34mas\u001b[39;49;00m \u001b[04m\u001b[36mpd\u001b[39;49;00m\r\n",
      "\r\n",
      "\u001b[34mfrom\u001b[39;49;00m \u001b[04m\u001b[36msklearn.externals\u001b[39;49;00m \u001b[34mimport\u001b[39;49;00m joblib\r\n",
      "\r\n",
      "\u001b[37m## TODO: Import any additional libraries you need to define a model\u001b[39;49;00m\r\n",
      "\u001b[34mfrom\u001b[39;49;00m \u001b[04m\u001b[36msklearn.ensemble\u001b[39;49;00m \u001b[34mimport\u001b[39;49;00m RandomForestClassifier\r\n",
      "\r\n",
      "\r\n",
      "\u001b[37m# Provided model load function\u001b[39;49;00m\r\n",
      "\u001b[34mdef\u001b[39;49;00m \u001b[32mmodel_fn\u001b[39;49;00m(model_dir):\r\n",
      "    \u001b[33m\"\"\"Load model from the model_dir. This is the same model that is saved\u001b[39;49;00m\r\n",
      "\u001b[33m    in the main if statement.\u001b[39;49;00m\r\n",
      "\u001b[33m    \"\"\"\u001b[39;49;00m\r\n",
      "    \u001b[34mprint\u001b[39;49;00m(\u001b[33m\"\u001b[39;49;00m\u001b[33mLoading model.\u001b[39;49;00m\u001b[33m\"\u001b[39;49;00m)\r\n",
      "    \r\n",
      "    \u001b[37m# load using joblib\u001b[39;49;00m\r\n",
      "    model = joblib.load(os.path.join(model_dir, \u001b[33m\"\u001b[39;49;00m\u001b[33mmodel.joblib\u001b[39;49;00m\u001b[33m\"\u001b[39;49;00m))\r\n",
      "    \u001b[34mprint\u001b[39;49;00m(\u001b[33m\"\u001b[39;49;00m\u001b[33mDone loading model.\u001b[39;49;00m\u001b[33m\"\u001b[39;49;00m)\r\n",
      "    \r\n",
      "    \u001b[34mreturn\u001b[39;49;00m model\r\n",
      "\r\n",
      "\r\n",
      "\u001b[37m## TODO: Complete the main code\u001b[39;49;00m\r\n",
      "\u001b[34mif\u001b[39;49;00m \u001b[31m__name__\u001b[39;49;00m == \u001b[33m'\u001b[39;49;00m\u001b[33m__main__\u001b[39;49;00m\u001b[33m'\u001b[39;49;00m:\r\n",
      "    \r\n",
      "    \u001b[37m# All of the model parameters and training parameters are sent as arguments\u001b[39;49;00m\r\n",
      "    \u001b[37m# when this script is executed, during a training job\u001b[39;49;00m\r\n",
      "    \r\n",
      "    \u001b[37m# Here we set up an argument parser to easily access the parameters\u001b[39;49;00m\r\n",
      "    parser = argparse.ArgumentParser()\r\n",
      "\r\n",
      "    \u001b[37m# SageMaker parameters, like the directories for training data and saving models; set automatically\u001b[39;49;00m\r\n",
      "    \u001b[37m# Do not need to change\u001b[39;49;00m\r\n",
      "    parser.add_argument(\u001b[33m'\u001b[39;49;00m\u001b[33m--output-data-dir\u001b[39;49;00m\u001b[33m'\u001b[39;49;00m, \u001b[36mtype\u001b[39;49;00m=\u001b[36mstr\u001b[39;49;00m, default=os.environ[\u001b[33m'\u001b[39;49;00m\u001b[33mSM_OUTPUT_DATA_DIR\u001b[39;49;00m\u001b[33m'\u001b[39;49;00m])\r\n",
      "    parser.add_argument(\u001b[33m'\u001b[39;49;00m\u001b[33m--model-dir\u001b[39;49;00m\u001b[33m'\u001b[39;49;00m, \u001b[36mtype\u001b[39;49;00m=\u001b[36mstr\u001b[39;49;00m, default=os.environ[\u001b[33m'\u001b[39;49;00m\u001b[33mSM_MODEL_DIR\u001b[39;49;00m\u001b[33m'\u001b[39;49;00m])\r\n",
      "    parser.add_argument(\u001b[33m'\u001b[39;49;00m\u001b[33m--data-dir\u001b[39;49;00m\u001b[33m'\u001b[39;49;00m, \u001b[36mtype\u001b[39;49;00m=\u001b[36mstr\u001b[39;49;00m, default=os.environ[\u001b[33m'\u001b[39;49;00m\u001b[33mSM_CHANNEL_TRAIN\u001b[39;49;00m\u001b[33m'\u001b[39;49;00m])\r\n",
      "    \r\n",
      "    \u001b[37m## TODO: Add any additional arguments that you will need to pass into your model\u001b[39;49;00m\r\n",
      "    \r\n",
      "    \u001b[37m# args holds all passed-in arguments\u001b[39;49;00m\r\n",
      "    args = parser.parse_args()\r\n",
      "\r\n",
      "    \u001b[37m# Read in csv training file\u001b[39;49;00m\r\n",
      "    training_dir = args.data_dir\r\n",
      "    train_data = pd.read_csv(os.path.join(training_dir, \u001b[33m\"\u001b[39;49;00m\u001b[33mtrain.csv\u001b[39;49;00m\u001b[33m\"\u001b[39;49;00m), header=\u001b[36mNone\u001b[39;49;00m, names=\u001b[36mNone\u001b[39;49;00m)\r\n",
      "\r\n",
      "    \u001b[37m# Labels are in the first column\u001b[39;49;00m\r\n",
      "    train_y = train_data.iloc[:,\u001b[34m0\u001b[39;49;00m]\r\n",
      "    train_x = train_data.iloc[:,\u001b[34m1\u001b[39;49;00m:]\r\n",
      "    \r\n",
      "    \r\n",
      "    \u001b[37m## --- Your code here --- ##\u001b[39;49;00m\r\n",
      "    \r\n",
      "\r\n",
      "    \u001b[37m## TODO: Define a model \u001b[39;49;00m\r\n",
      "    model = RandomForestClassifier()\r\n",
      "    \r\n",
      "    \r\n",
      "    \u001b[37m## TODO: Train the model\u001b[39;49;00m\r\n",
      "    model.fit(train_x, train_y)\r\n",
      "    \r\n",
      "    \r\n",
      "    \u001b[37m## --- End of your code  --- ##\u001b[39;49;00m\r\n",
      "    \r\n",
      "\r\n",
      "    \u001b[37m# Save the trained model\u001b[39;49;00m\r\n",
      "    joblib.dump(model, os.path.join(args.model_dir, \u001b[33m\"\u001b[39;49;00m\u001b[33mmodel.joblib\u001b[39;49;00m\u001b[33m\"\u001b[39;49;00m))\r\n"
     ]
    }
   ],
   "source": [
    "# directory can be changed to: source_sklearn or source_pytorch\n",
    "!pygmentize source_sklearn/train.py"
   ]
  },
  {
   "cell_type": "markdown",
   "metadata": {},
   "source": [
    "### Provided code\n",
    "\n",
    "If you read the code above, you can see that the starter code includes a few things:\n",
    "* Model loading (`model_fn`) and saving code\n",
    "* Getting SageMaker's default hyperparameters\n",
    "* Loading the training data by name, `train.csv` and extracting the features and labels, `train_x`, and `train_y`\n",
    "\n",
    "If you'd like to read more about model saving with [joblib for sklearn](https://scikit-learn.org/stable/modules/model_persistence.html) or with [torch.save](https://pytorch.org/tutorials/beginner/saving_loading_models.html), click on the provided links."
   ]
  },
  {
   "cell_type": "markdown",
   "metadata": {},
   "source": [
    "---\n",
    "# Create an Estimator\n",
    "\n",
    "When a custom model is constructed in SageMaker, an entry point must be specified. This is the Python file which will be executed when the model is trained; the `train.py` function you specified above. To run a custom training script in SageMaker, construct an estimator, and fill in the appropriate constructor arguments:\n",
    "\n",
    "* **entry_point**: The path to the Python script SageMaker runs for training and prediction.\n",
    "* **source_dir**: The path to the training script directory `source_sklearn` OR `source_pytorch`.\n",
    "* **entry_point**: The path to the Python script SageMaker runs for training and prediction.\n",
    "* **source_dir**: The path to the training script directory `train_sklearn` OR `train_pytorch`.\n",
    "* **entry_point**: The path to the Python script SageMaker runs for training.\n",
    "* **source_dir**: The path to the training script directory `train_sklearn` OR `train_pytorch`.\n",
    "* **role**: Role ARN, which was specified, above.\n",
    "* **train_instance_count**: The number of training instances (should be left at 1).\n",
    "* **train_instance_type**: The type of SageMaker instance for training. Note: Because Scikit-learn does not natively support GPU training, Sagemaker Scikit-learn does not currently support training on GPU instance types.\n",
    "* **sagemaker_session**: The session used to train on Sagemaker.\n",
    "* **hyperparameters** (optional): A dictionary `{'name':value, ..}` passed to the train function as hyperparameters.\n",
    "\n",
    "Note: For a PyTorch model, there is another optional argument **framework_version**, which you can set to the latest version of PyTorch, `1.0`.\n",
    "\n",
    "## EXERCISE: Define a Scikit-learn or PyTorch estimator\n",
    "\n",
    "To import your desired estimator, use one of the following lines:\n",
    "```\n",
    "from sagemaker.sklearn.estimator import SKLearn\n",
    "```\n",
    "```\n",
    "from sagemaker.pytorch import PyTorch\n",
    "```"
   ]
  },
  {
   "cell_type": "code",
   "execution_count": 14,
   "metadata": {},
   "outputs": [],
   "source": [
    "# your import and estimator code, here\n",
    "from sagemaker.sklearn.estimator import SKLearn\n",
    "\n",
    "estimator = SKLearn(\n",
    "    entry_point='train.py',\n",
    "    source_dir = 'source_sklearn',\n",
    "    role=role,\n",
    "    train_instance_count=1,\n",
    "    train_instance_type='ml.c4.xlarge'\n",
    ")"
   ]
  },
  {
   "cell_type": "markdown",
   "metadata": {},
   "source": [
    "## EXERCISE: Train the estimator\n",
    "\n",
    "Train your estimator on the training data stored in S3. This should create a training job that you can monitor in your SageMaker console."
   ]
  },
  {
   "cell_type": "code",
   "execution_count": 15,
   "metadata": {
    "scrolled": false
   },
   "outputs": [
    {
     "name": "stdout",
     "output_type": "stream",
     "text": [
      "2020-06-02 19:20:02 Starting - Starting the training job...\n",
      "2020-06-02 19:20:04 Starting - Launching requested ML instances.........\n",
      "2020-06-02 19:21:47 Starting - Preparing the instances for training......\n",
      "2020-06-02 19:22:35 Downloading - Downloading input data...\n",
      "2020-06-02 19:23:30 Training - Training image download completed. Training in progress.\n",
      "2020-06-02 19:23:30 Uploading - Uploading generated training model\u001b[34m2020-06-02 19:23:25,688 sagemaker-containers INFO     Imported framework sagemaker_sklearn_container.training\u001b[0m\n",
      "\u001b[34m2020-06-02 19:23:25,692 sagemaker-containers INFO     No GPUs detected (normal if no gpus installed)\u001b[0m\n",
      "\u001b[34m2020-06-02 19:23:25,713 sagemaker_sklearn_container.training INFO     Invoking user training script.\u001b[0m\n",
      "\u001b[34m2020-06-02 19:23:25,984 sagemaker-containers INFO     Module train does not provide a setup.py. \u001b[0m\n",
      "\u001b[34mGenerating setup.py\u001b[0m\n",
      "\u001b[34m2020-06-02 19:23:25,985 sagemaker-containers INFO     Generating setup.cfg\u001b[0m\n",
      "\u001b[34m2020-06-02 19:23:25,985 sagemaker-containers INFO     Generating MANIFEST.in\u001b[0m\n",
      "\u001b[34m2020-06-02 19:23:25,985 sagemaker-containers INFO     Installing module with the following command:\u001b[0m\n",
      "\u001b[34m/miniconda3/bin/python -m pip install . \u001b[0m\n",
      "\u001b[34mProcessing /opt/ml/code\u001b[0m\n",
      "\u001b[34mBuilding wheels for collected packages: train\n",
      "  Building wheel for train (setup.py): started\n",
      "  Building wheel for train (setup.py): finished with status 'done'\n",
      "  Created wheel for train: filename=train-1.0.0-py2.py3-none-any.whl size=5869 sha256=49d8fd7aca03e940c36affec745390b3cccd82039403f37af78c4858018992a5\n",
      "  Stored in directory: /tmp/pip-ephem-wheel-cache-njlqfx9r/wheels/35/24/16/37574d11bf9bde50616c67372a334f94fa8356bc7164af8ca3\u001b[0m\n",
      "\u001b[34mSuccessfully built train\u001b[0m\n",
      "\u001b[34mInstalling collected packages: train\u001b[0m\n",
      "\u001b[34mSuccessfully installed train-1.0.0\u001b[0m\n",
      "\u001b[34m2020-06-02 19:23:27,256 sagemaker-containers INFO     No GPUs detected (normal if no gpus installed)\u001b[0m\n",
      "\u001b[34m2020-06-02 19:23:27,267 sagemaker-containers INFO     Invoking user script\n",
      "\u001b[0m\n",
      "\u001b[34mTraining Env:\n",
      "\u001b[0m\n",
      "\u001b[34m{\n",
      "    \"additional_framework_parameters\": {},\n",
      "    \"channel_input_dirs\": {\n",
      "        \"training\": \"/opt/ml/input/data/training\"\n",
      "    },\n",
      "    \"current_host\": \"algo-1\",\n",
      "    \"framework_module\": \"sagemaker_sklearn_container.training:main\",\n",
      "    \"hosts\": [\n",
      "        \"algo-1\"\n",
      "    ],\n",
      "    \"hyperparameters\": {},\n",
      "    \"input_config_dir\": \"/opt/ml/input/config\",\n",
      "    \"input_data_config\": {\n",
      "        \"training\": {\n",
      "            \"TrainingInputMode\": \"File\",\n",
      "            \"S3DistributionType\": \"FullyReplicated\",\n",
      "            \"RecordWrapperType\": \"None\"\n",
      "        }\n",
      "    },\n",
      "    \"input_dir\": \"/opt/ml/input\",\n",
      "    \"is_master\": true,\n",
      "    \"job_name\": \"sagemaker-scikit-learn-2020-06-02-19-20-01-527\",\n",
      "    \"log_level\": 20,\n",
      "    \"master_hostname\": \"algo-1\",\n",
      "    \"model_dir\": \"/opt/ml/model\",\n",
      "    \"module_dir\": \"s3://sagemaker-us-east-1-754370150126/sagemaker-scikit-learn-2020-06-02-19-20-01-527/source/sourcedir.tar.gz\",\n",
      "    \"module_name\": \"train\",\n",
      "    \"network_interface_name\": \"eth0\",\n",
      "    \"num_cpus\": 4,\n",
      "    \"num_gpus\": 0,\n",
      "    \"output_data_dir\": \"/opt/ml/output/data\",\n",
      "    \"output_dir\": \"/opt/ml/output\",\n",
      "    \"output_intermediate_dir\": \"/opt/ml/output/intermediate\",\n",
      "    \"resource_config\": {\n",
      "        \"current_host\": \"algo-1\",\n",
      "        \"hosts\": [\n",
      "            \"algo-1\"\n",
      "        ],\n",
      "        \"network_interface_name\": \"eth0\"\n",
      "    },\n",
      "    \"user_entry_point\": \"train.py\"\u001b[0m\n",
      "\u001b[34m}\n",
      "\u001b[0m\n",
      "\u001b[34mEnvironment variables:\n",
      "\u001b[0m\n",
      "\u001b[34mSM_HOSTS=[\"algo-1\"]\u001b[0m\n",
      "\u001b[34mSM_NETWORK_INTERFACE_NAME=eth0\u001b[0m\n",
      "\u001b[34mSM_HPS={}\u001b[0m\n",
      "\u001b[34mSM_USER_ENTRY_POINT=train.py\u001b[0m\n",
      "\u001b[34mSM_FRAMEWORK_PARAMS={}\u001b[0m\n",
      "\u001b[34mSM_RESOURCE_CONFIG={\"current_host\":\"algo-1\",\"hosts\":[\"algo-1\"],\"network_interface_name\":\"eth0\"}\u001b[0m\n",
      "\u001b[34mSM_INPUT_DATA_CONFIG={\"training\":{\"RecordWrapperType\":\"None\",\"S3DistributionType\":\"FullyReplicated\",\"TrainingInputMode\":\"File\"}}\u001b[0m\n",
      "\u001b[34mSM_OUTPUT_DATA_DIR=/opt/ml/output/data\u001b[0m\n",
      "\u001b[34mSM_CHANNELS=[\"training\"]\u001b[0m\n",
      "\u001b[34mSM_CURRENT_HOST=algo-1\u001b[0m\n",
      "\u001b[34mSM_MODULE_NAME=train\u001b[0m\n",
      "\u001b[34mSM_LOG_LEVEL=20\u001b[0m\n",
      "\u001b[34mSM_FRAMEWORK_MODULE=sagemaker_sklearn_container.training:main\u001b[0m\n",
      "\u001b[34mSM_INPUT_DIR=/opt/ml/input\u001b[0m\n",
      "\u001b[34mSM_INPUT_CONFIG_DIR=/opt/ml/input/config\u001b[0m\n",
      "\u001b[34mSM_OUTPUT_DIR=/opt/ml/output\u001b[0m\n",
      "\u001b[34mSM_NUM_CPUS=4\u001b[0m\n",
      "\u001b[34mSM_NUM_GPUS=0\u001b[0m\n",
      "\u001b[34mSM_MODEL_DIR=/opt/ml/model\u001b[0m\n",
      "\u001b[34mSM_MODULE_DIR=s3://sagemaker-us-east-1-754370150126/sagemaker-scikit-learn-2020-06-02-19-20-01-527/source/sourcedir.tar.gz\u001b[0m\n",
      "\u001b[34mSM_TRAINING_ENV={\"additional_framework_parameters\":{},\"channel_input_dirs\":{\"training\":\"/opt/ml/input/data/training\"},\"current_host\":\"algo-1\",\"framework_module\":\"sagemaker_sklearn_container.training:main\",\"hosts\":[\"algo-1\"],\"hyperparameters\":{},\"input_config_dir\":\"/opt/ml/input/config\",\"input_data_config\":{\"training\":{\"RecordWrapperType\":\"None\",\"S3DistributionType\":\"FullyReplicated\",\"TrainingInputMode\":\"File\"}},\"input_dir\":\"/opt/ml/input\",\"is_master\":true,\"job_name\":\"sagemaker-scikit-learn-2020-06-02-19-20-01-527\",\"log_level\":20,\"master_hostname\":\"algo-1\",\"model_dir\":\"/opt/ml/model\",\"module_dir\":\"s3://sagemaker-us-east-1-754370150126/sagemaker-scikit-learn-2020-06-02-19-20-01-527/source/sourcedir.tar.gz\",\"module_name\":\"train\",\"network_interface_name\":\"eth0\",\"num_cpus\":4,\"num_gpus\":0,\"output_data_dir\":\"/opt/ml/output/data\",\"output_dir\":\"/opt/ml/output\",\"output_intermediate_dir\":\"/opt/ml/output/intermediate\",\"resource_config\":{\"current_host\":\"algo-1\",\"hosts\":[\"algo-1\"],\"network_interface_name\":\"eth0\"},\"user_entry_point\":\"train.py\"}\u001b[0m\n",
      "\u001b[34mSM_USER_ARGS=[]\u001b[0m\n",
      "\u001b[34mSM_OUTPUT_INTERMEDIATE_DIR=/opt/ml/output/intermediate\u001b[0m\n",
      "\u001b[34mSM_CHANNEL_TRAINING=/opt/ml/input/data/training\u001b[0m\n",
      "\u001b[34mPYTHONPATH=/miniconda3/bin:/miniconda3/lib/python37.zip:/miniconda3/lib/python3.7:/miniconda3/lib/python3.7/lib-dynload:/miniconda3/lib/python3.7/site-packages\n",
      "\u001b[0m\n",
      "\u001b[34mInvoking script with the following command:\n",
      "\u001b[0m\n",
      "\u001b[34m/miniconda3/bin/python -m train\n",
      "\n",
      "\u001b[0m\n",
      "\u001b[34m/miniconda3/lib/python3.7/site-packages/sklearn/externals/joblib/externals/cloudpickle/cloudpickle.py:47: DeprecationWarning: the imp module is deprecated in favour of importlib; see the module's documentation for alternative uses\n",
      "  import imp\u001b[0m\n",
      "\u001b[34m/miniconda3/lib/python3.7/site-packages/sklearn/ensemble/forest.py:248: FutureWarning: The default value of n_estimators will change from 10 in version 0.20 to 100 in 0.22.\n",
      "  \"10 in version 0.20 to 100 in 0.22.\", FutureWarning)\u001b[0m\n",
      "\u001b[34m2020-06-02 19:23:28,525 sagemaker-containers INFO     Reporting training SUCCESS\u001b[0m\n",
      "\n",
      "2020-06-02 19:23:37 Completed - Training job completed\n",
      "Training seconds: 62\n",
      "Billable seconds: 62\n",
      "CPU times: user 590 ms, sys: 38.2 ms, total: 628 ms\n",
      "Wall time: 4min 12s\n"
     ]
    }
   ],
   "source": [
    "%%time\n",
    "\n",
    "# Train your estimator on S3 training data\n",
    "estimator.fit({'training': input_data})\n"
   ]
  },
  {
   "cell_type": "markdown",
   "metadata": {},
   "source": [
    "## EXERCISE: Deploy the trained model\n",
    "\n",
    "After training, deploy your model to create a `predictor`. If you're using a PyTorch model, you'll need to create a trained `PyTorchModel` that accepts the trained `<model>.model_data` as an input parameter and points to the provided `source_pytorch/predict.py` file as an entry point. \n",
    "\n",
    "To deploy a trained model, you'll use `<model>.deploy`, which takes in two arguments:\n",
    "* **initial_instance_count**: The number of deployed instances (1).\n",
    "* **instance_type**: The type of SageMaker instance for deployment.\n",
    "\n",
    "Note: If you run into an instance error, it may be because you chose the wrong training or deployment instance_type. It may help to refer to your previous exercise code to see which types of instances we used."
   ]
  },
  {
   "cell_type": "code",
   "execution_count": 16,
   "metadata": {},
   "outputs": [
    {
     "name": "stdout",
     "output_type": "stream",
     "text": [
      "-----------------!CPU times: user 284 ms, sys: 32.5 ms, total: 316 ms\n",
      "Wall time: 8min 32s\n"
     ]
    }
   ],
   "source": [
    "%%time\n",
    "\n",
    "# uncomment, if needed\n",
    "#from sagemaker.pytorch import PyTorchModel\n",
    "\n",
    "\n",
    "# deploy your model to create a predictor\n",
    "predictor = estimator.deploy(\n",
    "    initial_instance_count=1,\n",
    "    instance_type='ml.c4.xlarge'\n",
    ")\n"
   ]
  },
  {
   "cell_type": "markdown",
   "metadata": {},
   "source": [
    "---\n",
    "# Evaluating Your Model\n",
    "\n",
    "Once your model is deployed, you can see how it performs when applied to our test data.\n",
    "\n",
    "The provided cell below, reads in the test data, assuming it is stored locally in `data_dir` and named `test.csv`. The labels and features are extracted from the `.csv` file."
   ]
  },
  {
   "cell_type": "code",
   "execution_count": 17,
   "metadata": {},
   "outputs": [],
   "source": [
    "\"\"\"\n",
    "DON'T MODIFY ANYTHING IN THIS CELL THAT IS BELOW THIS LINE\n",
    "\"\"\"\n",
    "import os\n",
    "\n",
    "# read in test data, assuming it is stored locally\n",
    "test_data = pd.read_csv(os.path.join(data_dir, \"test.csv\"), header=None, names=None)\n",
    "\n",
    "# labels are in the first column\n",
    "test_y = test_data.iloc[:,0]\n",
    "test_x = test_data.iloc[:,1:]"
   ]
  },
  {
   "cell_type": "markdown",
   "metadata": {},
   "source": [
    "## EXERCISE: Determine the accuracy of your model\n",
    "\n",
    "Use your deployed `predictor` to generate predicted, class labels for the test data. Compare those to the *true* labels, `test_y`, and calculate the accuracy as a value between 0 and 1.0 that indicates the fraction of test data that your model classified correctly. You may use [sklearn.metrics](https://scikit-learn.org/stable/modules/classes.html#module-sklearn.metrics) for this calculation.\n",
    "\n",
    "**To pass this project, your model should get at least 90% test accuracy.**"
   ]
  },
  {
   "cell_type": "code",
   "execution_count": 18,
   "metadata": {},
   "outputs": [
    {
     "name": "stdout",
     "output_type": "stream",
     "text": [
      "Test passed!\n"
     ]
    }
   ],
   "source": [
    "# First: generate predicted, class labels\n",
    "test_y_preds = predictor.predict(test_x)\n",
    "\n",
    "\n",
    "\"\"\"\n",
    "DON'T MODIFY ANYTHING IN THIS CELL THAT IS BELOW THIS LINE\n",
    "\"\"\"\n",
    "# test that your model generates the correct number of labels\n",
    "assert len(test_y_preds)==len(test_y), 'Unexpected number of predictions.'\n",
    "print('Test passed!')"
   ]
  },
  {
   "cell_type": "code",
   "execution_count": 21,
   "metadata": {},
   "outputs": [
    {
     "name": "stdout",
     "output_type": "stream",
     "text": [
      "1.0\n",
      "\n",
      "Predicted class labels: \n",
      "[1 1 1 1 1 1 0 0 0 0 0 0 1 1 1 1 1 1 0 1 0 1 1 0 0]\n",
      "\n",
      "True class labels: \n",
      "[1 1 1 1 1 1 0 0 0 0 0 0 1 1 1 1 1 1 0 1 0 1 1 0 0]\n"
     ]
    }
   ],
   "source": [
    "# Second: calculate the test accuracy\n",
    "from sklearn.metrics import accuracy_score\n",
    "accuracy = accuracy_score(test_y, test_y_preds)\n",
    "\n",
    "print(accuracy)\n",
    "\n",
    "\n",
    "## print out the array of predicted and true labels, if you want\n",
    "print('\\nPredicted class labels: ')\n",
    "print(test_y_preds)\n",
    "print('\\nTrue class labels: ')\n",
    "print(test_y.values)"
   ]
  },
  {
   "cell_type": "markdown",
   "metadata": {},
   "source": [
    "### Question 1: How many false positives and false negatives did your model produce, if any? And why do you think this is?"
   ]
  },
  {
   "cell_type": "markdown",
   "metadata": {},
   "source": [
    "** Answer**: I did not recieve any false positives or negatives, likely because of the small size of the dataset."
   ]
  },
  {
   "cell_type": "markdown",
   "metadata": {},
   "source": [
    "### Question 2: How did you decide on the type of model to use? "
   ]
  },
  {
   "cell_type": "markdown",
   "metadata": {},
   "source": [
    "** Answer**: There are many models for binary classification problems, such as Linear SVC, Ensemble classifiers, and Naive Bayes. All three can work okay with smaller datasets. I decided to try Random Forests, an Ensemble classifier, first, and reached a desired accuracy."
   ]
  },
  {
   "cell_type": "markdown",
   "metadata": {},
   "source": [
    "----\n",
    "## EXERCISE: Clean up Resources\n",
    "\n",
    "After you're done evaluating your model, **delete your model endpoint**. You can do this with a call to `.delete_endpoint()`. You need to show, in this notebook, that the endpoint was deleted. Any other resources, you may delete from the AWS console, and you will find more instructions on cleaning up all your resources, below."
   ]
  },
  {
   "cell_type": "code",
   "execution_count": 22,
   "metadata": {},
   "outputs": [],
   "source": [
    "# uncomment and fill in the line below!\n",
    "predictor.delete_endpoint()\n"
   ]
  },
  {
   "cell_type": "markdown",
   "metadata": {},
   "source": [
    "### Deleting S3 bucket\n",
    "\n",
    "When you are *completely* done with training and testing models, you can also delete your entire S3 bucket. If you do this before you are done training your model, you'll have to recreate your S3 bucket and upload your training data again."
   ]
  },
  {
   "cell_type": "code",
   "execution_count": 24,
   "metadata": {
    "scrolled": false
   },
   "outputs": [
    {
     "data": {
      "text/plain": [
       "[{'ResponseMetadata': {'RequestId': '94DA5902CFF90BFF',\n",
       "   'HostId': 'dHZA2G+LbWUAGb0VvCl1hWPtl/PrD4CSrVHpH0WPFE35p/hfHC0hJ8/lfYTr5qyydLXn1kbcm88=',\n",
       "   'HTTPStatusCode': 200,\n",
       "   'HTTPHeaders': {'x-amz-id-2': 'dHZA2G+LbWUAGb0VvCl1hWPtl/PrD4CSrVHpH0WPFE35p/hfHC0hJ8/lfYTr5qyydLXn1kbcm88=',\n",
       "    'x-amz-request-id': '94DA5902CFF90BFF',\n",
       "    'date': 'Wed, 03 Jun 2020 22:01:31 GMT',\n",
       "    'connection': 'close',\n",
       "    'content-type': 'application/xml',\n",
       "    'transfer-encoding': 'chunked',\n",
       "    'server': 'AmazonS3'},\n",
       "   'RetryAttempts': 0},\n",
       "  'Deleted': [{'Key': 'sagemaker-pytorch-2020-02-29-20-09-31-850/sourcedir.tar.gz'},\n",
       "   {'Key': 'creditcard/linear-learner-2020-03-14-19-37-59-762/output/model.tar.gz'},\n",
       "   {'Key': 'features/test.csv'},\n",
       "   {'Key': 'sagemaker-pytorch-2020-03-20-21-50-26-309/source/sourcedir.tar.gz'},\n",
       "   {'Key': 'sagemaker-pytorch-2020-03-01-20-33-40-792/output/model.tar.gz'},\n",
       "   {'Key': 'sagemaker-record-sets/KMeans-2020-03-08-19-20-31-384/.amazon.manifest'},\n",
       "   {'Key': 'sagemaker/sentiment_rnn/word_dict.pkl'},\n",
       "   {'Key': 'boston-xgboost-deploy-ll/output/boston-xgboost-2020-02-08-19-34-03/output/model.tar.gz'},\n",
       "   {'Key': 'sagemaker-pytorch-2020-02-27-03-23-39-665/debug-output/training_job_end.ts'},\n",
       "   {'Key': 'sagemaker-pytorch-2020-02-27-03-32-36-303/debug-output/training_job_end.ts'},\n",
       "   {'Key': 'boston-xgboost-deploy-ll/validation.csv'},\n",
       "   {'Key': 'creditcard/linear-learner-2020-03-11-23-05-41-605/output/model.tar.gz'},\n",
       "   {'Key': 'sagemaker-pytorch-2020-02-27-03-23-39-665/source/sourcedir.tar.gz'},\n",
       "   {'Key': 'sagemaker-scikit-learn-2020-06-02-19-18-36-205/debug-output/training_job_end.ts'},\n",
       "   {'Key': 'xgboost-2020-02-05-23-00-01-180/test.csv.out'},\n",
       "   {'Key': 'sagemaker-record-sets/PCA-2020-03-07-21-32-39-400/matrix_0.pbr'},\n",
       "   {'Key': 'sagemaker/moon-data/sagemaker-pytorch-2020-03-20-21-36-08-947/output/model.tar.gz'},\n",
       "   {'Key': 'sagemaker-pytorch-2020-03-03-02-17-14-141/output/model.tar.gz'},\n",
       "   {'Key': 'sagemaker-pytorch-2020-03-04-02-23-27-498/sourcedir.tar.gz'},\n",
       "   {'Key': 'xgboost-2020-02-04-01-46-56-604/test.csv.out'},\n",
       "   {'Key': 'sentiment-web-app/test.csv'},\n",
       "   {'Key': 'boston-xgboost-HL/output/xgboost-2020-02-04-01-37-43-325/output/model.tar.gz'},\n",
       "   {'Key': 'sagemaker-pytorch-2020-03-04-02-30-52-689/sourcedir.tar.gz'},\n",
       "   {'Key': 'sentiment-web-app/train.csv'},\n",
       "   {'Key': 'counties/kmeans-2020-03-08-19-21-46-626/output/model.tar.gz'},\n",
       "   {'Key': 'sagemaker-scikit-learn-2020-04-30-23-09-30-545/source/sourcedir.tar.gz'},\n",
       "   {'Key': 'xgboost-2020-02-16-21-14-05-553/test.csv.out'},\n",
       "   {'Key': 'boston-xgboost-deploy-hl/output/xgboost-2020-02-08-18-59-48-599/output/model.tar.gz'},\n",
       "   {'Key': 'features/train.csv'},\n",
       "   {'Key': 'sagemaker-pytorch-2020-03-04-02-31-53-689/sourcedir.tar.gz'},\n",
       "   {'Key': 'sagemaker-pytorch-2020-03-20-21-42-47-377/source/sourcedir.tar.gz'},\n",
       "   {'Key': 'sentiment-web-app/output/xgboost-2020-02-16-21-05-04-362/output/model.tar.gz'},\n",
       "   {'Key': 'sagemaker-pytorch-2020-03-04-02-22-41-877/sourcedir.tar.gz'},\n",
       "   {'Key': 'sentiment-web-app/output/xgboost-2020-02-22-19-32-05-113/output/model.tar.gz'},\n",
       "   {'Key': 'sagemaker-pytorch-2020-02-27-03-16-58-096/source/sourcedir.tar.gz'},\n",
       "   {'Key': 'sagemaker-pytorch-2020-02-27-03-32-36-303/source/sourcedir.tar.gz'},\n",
       "   {'Key': 'sagemaker-pytorch-2020-03-03-02-17-14-141/source/sourcedir.tar.gz'},\n",
       "   {'Key': 'counties/pca-2020-03-07-21-33-14-087/output/model.tar.gz'},\n",
       "   {'Key': 'sagemaker-pytorch-2020-03-01-22-17-03-762/output/model.tar.gz'},\n",
       "   {'Key': 'sagemaker-scikit-learn-2020-06-02-19-04-49-322/source/sourcedir.tar.gz'},\n",
       "   {'Key': 'sagemaker-scikit-learn-2020-06-02-19-10-13-158/source/sourcedir.tar.gz'},\n",
       "   {'Key': 'sagemaker-pytorch-2020-03-01-20-33-40-792/debug-output/training_job_end.ts'},\n",
       "   {'Key': 'boston-xgboost-deploy-hl/output/xgboost-2020-02-16-20-47-27-613/output/model.tar.gz'},\n",
       "   {'Key': 'sagemaker/moon-data/sagemaker-pytorch-2020-03-20-21-42-47-377/output/model.tar.gz'},\n",
       "   {'Key': 'sagemaker-pytorch-2020-03-01-20-05-12-063/sourcedir.tar.gz'},\n",
       "   {'Key': 'sagemaker-pytorch-2020-03-01-20-33-40-792/source/sourcedir.tar.gz'},\n",
       "   {'Key': 'sagemaker-pytorch-2020-03-04-03-16-28-212/sourcedir.tar.gz'},\n",
       "   {'Key': 'sagemaker/moon-data/train.csv'},\n",
       "   {'Key': 'sagemaker-scikit-learn-2020-06-02-19-20-01-527/source/sourcedir.tar.gz'},\n",
       "   {'Key': 'sagemaker-scikit-learn-2020-06-02-19-18-36-205/source/sourcedir.tar.gz'},\n",
       "   {'Key': 'boston-xgboost-HL/test.csv'},\n",
       "   {'Key': 'sagemaker/moon-data/sagemaker-pytorch-2020-03-20-21-50-26-309/output/model.tar.gz'},\n",
       "   {'Key': 'sagemaker-record-sets/KMeans-2020-03-08-19-20-31-384/matrix_0.pbr'},\n",
       "   {'Key': 'sagemaker-pytorch-2020-03-20-21-36-08-947/source/sourcedir.tar.gz'},\n",
       "   {'Key': 'creditcard/linear-learner-2020-03-14-19-28-29-058/output/model.tar.gz'},\n",
       "   {'Key': 'sagemaker-record-sets/PCA-2020-03-07-21-32-39-400/.amazon.manifest'},\n",
       "   {'Key': 'boston-xgboost-deploy-hl/validation.csv'},\n",
       "   {'Key': 'sagemaker-scikit-learn-2020-06-02-19-18-36-205/output/model.tar.gz'},\n",
       "   {'Key': 'boston-xgboost-deploy-hl/output/xgboost-2020-02-08-19-21-19-367/output/model.tar.gz'},\n",
       "   {'Key': 'sagemaker-pytorch-2020-03-04-02-51-40-983/sourcedir.tar.gz'},\n",
       "   {'Key': 'xgboost-2020-02-22-19-39-50-452/test.csv.out'},\n",
       "   {'Key': 'sagemaker-pytorch-2020-03-01-20-58-41-015/sourcedir.tar.gz'},\n",
       "   {'Key': 'sagemaker-pytorch-2020-03-04-01-24-57-775/source/sourcedir.tar.gz'},\n",
       "   {'Key': 'boston-xgboost-HL/train.csv'},\n",
       "   {'Key': 'sagemaker/sentiment_rnn/train.csv'},\n",
       "   {'Key': 'sagemaker-pytorch-2020-03-01-22-17-03-762/source/sourcedir.tar.gz'},\n",
       "   {'Key': 'sagemaker-pytorch-2020-03-01-22-17-03-762/debug-output/training_job_end.ts'},\n",
       "   {'Key': 'sagemaker-pytorch-2020-03-03-02-17-14-141/debug-output/training_job_end.ts'},\n",
       "   {'Key': 'boston-xgboost-deploy-hl/output/xgboost-2020-02-08-19-16-34-861/output/model.tar.gz'},\n",
       "   {'Key': 'sagemaker-pytorch-2020-03-01-21-52-29-622/sourcedir.tar.gz'},\n",
       "   {'Key': 'sagemaker-scikit-learn-2020-06-02-19-20-01-527/output/model.tar.gz'},\n",
       "   {'Key': 'boston-xgboost-HL/validation.csv'},\n",
       "   {'Key': 'boston-xgboost-deploy-hl/train.csv'},\n",
       "   {'Key': 'sagemaker-record-sets/LinearLearner-2020-03-11-23-04-02-650/matrix_0.pbr'},\n",
       "   {'Key': 'sagemaker-pytorch-2020-02-27-03-32-36-303/output/model.tar.gz'},\n",
       "   {'Key': 'sagemaker-pytorch-2020-03-01-20-51-21-719/sourcedir.tar.gz'},\n",
       "   {'Key': 'sagemaker-record-sets/LinearLearner-2020-03-11-23-04-02-650/.amazon.manifest'},\n",
       "   {'Key': 'sagemaker-pytorch-2020-03-04-01-24-57-775/output/model.tar.gz'},\n",
       "   {'Key': 'sagemaker-scikit-learn-2020-06-02-19-20-01-527/debug-output/training_job_end.ts'},\n",
       "   {'Key': 'sentiment-web-app/validation.csv'},\n",
       "   {'Key': 'boston-xgboost-deploy-ll/train.csv'},\n",
       "   {'Key': 'sagemaker-pytorch-2020-03-04-01-24-57-775/debug-output/training_job_end.ts'},\n",
       "   {'Key': 'boston-xgboost-HL/output/xgboost-2020-02-05-22-56-05-133/output/model.tar.gz'},\n",
       "   {'Key': 'sagemaker-pytorch-2020-03-04-03-36-55-645/sourcedir.tar.gz'}]}]"
      ]
     },
     "execution_count": 24,
     "metadata": {},
     "output_type": "execute_result"
    }
   ],
   "source": [
    "# deleting bucket, uncomment lines below\n",
    "\n",
    "bucket_to_delete = boto3.resource('s3').Bucket(bucket)\n",
    "bucket_to_delete.objects.all().delete()"
   ]
  },
  {
   "cell_type": "markdown",
   "metadata": {},
   "source": [
    "### Deleting all your models and instances\n",
    "\n",
    "When you are _completely_ done with this project and do **not** ever want to revisit this notebook, you can choose to delete all of your SageMaker notebook instances and models by following [these instructions](https://docs.aws.amazon.com/sagemaker/latest/dg/ex1-cleanup.html). Before you delete this notebook instance, I recommend at least downloading a copy and saving it, locally."
   ]
  },
  {
   "cell_type": "markdown",
   "metadata": {},
   "source": [
    "---\n",
    "## Further Directions\n",
    "\n",
    "There are many ways to improve or add on to this project to expand your learning or make this more of a unique project for you. A few ideas are listed below:\n",
    "* Train a classifier to predict the *category* (1-3) of plagiarism and not just plagiarized (1) or not (0).\n",
    "* Utilize a different and larger dataset to see if this model can be extended to other types of plagiarism.\n",
    "* Use language or character-level analysis to find different (and more) similarity features.\n",
    "* Write a complete pipeline function that accepts a source text and submitted text file, and classifies the submitted text as plagiarized or not.\n",
    "* Use API Gateway and a lambda function to deploy your model to a web application.\n",
    "\n",
    "These are all just options for extending your work. If you've completed all the exercises in this notebook, you've completed a real-world application, and can proceed to submit your project. Great job!"
   ]
  }
 ],
 "metadata": {
  "kernelspec": {
   "display_name": "conda_pytorch_p36",
   "language": "python",
   "name": "conda_pytorch_p36"
  },
  "language_info": {
   "codemirror_mode": {
    "name": "ipython",
    "version": 3
   },
   "file_extension": ".py",
   "mimetype": "text/x-python",
   "name": "python",
   "nbconvert_exporter": "python",
   "pygments_lexer": "ipython3",
   "version": "3.6.5"
  }
 },
 "nbformat": 4,
 "nbformat_minor": 2
}
